{
  "nbformat": 4,
  "nbformat_minor": 0,
  "metadata": {
    "colab": {
      "name": "Introduction to rlberry.ipynb",
      "provenance": [],
      "collapsed_sections": [],
      "include_colab_link": true
    },
    "kernelspec": {
      "name": "python3",
      "display_name": "Python 3.7.11 64-bit ('rlberry': conda)"
    },
    "language_info": {
      "name": "python",
      "version": "3.7.11",
      "mimetype": "text/x-python",
      "codemirror_mode": {
        "name": "ipython",
        "version": 3
      },
      "pygments_lexer": "ipython3",
      "nbconvert_exporter": "python",
      "file_extension": ".py"
    },
    "interpreter": {
      "hash": "77626d6da4f24721c6cde6592fa6521e12f75aa06b21b1ac25df0859aa7f2530"
    }
  },
  "cells": [
    {
      "cell_type": "markdown",
      "metadata": {
        "id": "view-in-github",
        "colab_type": "text"
      },
      "source": [
        "<a href=\"https://colab.research.google.com/github/rlberry-py/rlberry/blob/main/notebooks/introduction_to_rlberry.ipynb\" target=\"_parent\"><img src=\"https://colab.research.google.com/assets/colab-badge.svg\" alt=\"Open In Colab\"/></a>"
      ]
    },
    {
      "cell_type": "markdown",
      "metadata": {
        "id": "gVtvJ8vqQehR"
      },
      "source": [
        "# Introduction to\n",
        "<img src=\"https://raw.githubusercontent.com/rlberry-py/rlberry/main/assets/logo_wide.svg\" width=\"700\"/>\n",
        "\n",
        "\n"
      ]
    },
    {
      "cell_type": "markdown",
      "metadata": {
        "id": "BR9N_lSyTh-E"
      },
      "source": [
        "# Colab setup"
      ]
    },
    {
      "cell_type": "code",
      "metadata": {
        "id": "j2VU8Y7xQbSg",
        "colab": {
          "base_uri": "https://localhost:8080/"
        },
        "outputId": "88ebf183-c1a8-4c2c-8bd3-9a30f62ee5b6"
      },
      "source": [
        "from IPython import get_ipython\n",
        "COLAB = False\n",
        "if 'google.colab' in str(get_ipython()):\n",
        "    COLAB = True\n",
        "\n",
        "if COLAB:\n",
        "    # install rlberry library\n",
        "    !git clone https://github.com/rlberry-py/rlberry.git \n",
        "    !cd rlberry && git pull && pip install -e . > /dev/null 2>&1\n",
        "\n",
        "    # install ffmpeg-python for saving videos\n",
        "    !pip install ffmpeg-python > /dev/null 2>&1\n",
        "\n",
        "    # install optuna for hyperparameter optimization\n",
        "    !pip install optuna > /dev/null 2>&1\n",
        "\n",
        "    # packages required to show video\n",
        "    !pip install pyvirtualdisplay > /dev/null 2>&1\n",
        "    !apt-get install -y xvfb python-opengl ffmpeg > /dev/null 2>&1\n",
        "\n",
        "    print(\"\")\n",
        "    print(\" ~~~  Libraries installed, please restart the runtime! ~~~ \")\n",
        "    print(\"\")\n"
      ],
      "execution_count": 1,
      "outputs": [
        {
          "output_type": "stream",
          "name": "stdout",
          "text": [
            "fatal: destination path 'rlberry' already exists and is not an empty directory.\n",
            "Already up to date.\n",
            "\n",
            " ~~~  Libraries installed, please restart the runtime! ~~~ \n",
            "\n"
          ]
        }
      ]
    },
    {
      "cell_type": "code",
      "metadata": {
        "id": "rvkt6z9pVUnv"
      },
      "source": [
        "# Create directory for saving videos\n",
        "!mkdir videos > /dev/null 2>&1\n",
        "\n",
        "# Initialize display and import function to show videos\n",
        "import rlberry.colab_utils.display_setup\n",
        "from rlberry.colab_utils.display_setup import show_video"
      ],
      "execution_count": 2,
      "outputs": []
    },
    {
      "cell_type": "markdown",
      "metadata": {
        "id": "BCCyreAiWikz"
      },
      "source": [
        "# Interacting with a simple environment"
      ]
    },
    {
      "cell_type": "code",
      "metadata": {
        "colab": {
          "base_uri": "https://localhost:8080/",
          "height": 472
        },
        "id": "M5qrjKk3WiHE",
        "outputId": "172d5506-3368-42f7-a674-bd4df636edc1"
      },
      "source": [
        "from rlberry.envs import GridWorld\n",
        "\n",
        "# A grid world is a simple environment with finite states and actions, on which \n",
        "# we can test simple algorithms.\n",
        "# -> The reward function can be accessed by: env.R[state, action]\n",
        "# -> And the transitions: env.P[state, action, next_state]\n",
        "env_ctor = GridWorld\n",
        "env_kwargs =dict(nrows=3, ncols=10,\n",
        "                reward_at = {(1,1):0.1, (2, 9):1.0},\n",
        "                walls=((1,4),(2,4), (1,5)),\n",
        "                success_probability=0.9)\n",
        "env = env_ctor(**env_kwargs)\n",
        "\n",
        "# Let's visuzalize a random policy in this environment!\n",
        "env.enable_rendering()\n",
        "env.reset()\n",
        "for tt in range(20):\n",
        "    action = env.action_space.sample()\n",
        "    next_state, reward, is_terminal, info = env.step(action)\n",
        "\n",
        "# save video and clear buffer\n",
        "env.save_video('./videos/gw.mp4', framerate=5)\n",
        "env.clear_render_buffer()\n",
        "# show video\n",
        "show_video('./videos/gw.mp4')"
      ],
      "execution_count": 3,
      "outputs": [
        {
          "output_type": "stream",
          "name": "stderr",
          "text": [
            "[INFO] No OpenGL_accelerate module loaded: No module named 'OpenGL_accelerate' \n",
            "[INFO] Generating grammar tables from /usr/lib/python3.7/lib2to3/Grammar.txt \n",
            "[INFO] Generating grammar tables from /usr/lib/python3.7/lib2to3/PatternGrammar.txt \n"
          ]
        },
        {
          "output_type": "display_data",
          "data": {
            "text/html": [
              "<video alt=\"videos/gw.mp4\" autoplay\n",
              "                      loop controls style=\"height: 400px;\">\n",
              "                    <source src=\"data:video/mp4;base64,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\" type=\"video/mp4\" />\n",
              "                 </video>"
            ],
            "text/plain": [
              "<IPython.core.display.HTML object>"
            ]
          },
          "metadata": {}
        }
      ]
    },
    {
      "cell_type": "markdown",
      "metadata": {
        "id": "jWgoh5yoYuDE"
      },
      "source": [
        "# Creating an agent\n",
        "\n",
        "Let's create an agent that runs value iteration to find a near-optimal policy.\n",
        "This is possible in our GridWorld, because we have access to the transitions `env.P` and the rewards `env.R`.\n",
        "\n",
        "\n",
        "An `Agent` must implement at least two methods, **fit()** and **eval()**. These methods train and evaluate the agent, respectively. A convenient subclass of `Agent`, `AgentWithSimplePolicy`, requires a **policy()** method instead of **eval()** and implements a default `eval()` method that performs Monte-Carlo policy evaluation.\n",
        "\n",
        "It can also implement **sample_parameters()** used for hyperparameter optimization with [Optuna](https://optuna.org/).\n"
      ]
    },
    {
      "cell_type": "code",
      "metadata": {
        "id": "AJVMjW7WYspi"
      },
      "source": [
        "import numpy as np\n",
        "from rlberry.agents import AgentWithSimplePolicy\n",
        "\n",
        "class ValueIterationAgent(AgentWithSimplePolicy):\n",
        "    name = 'ValueIterationAgent'\n",
        "    def __init__(self, env, gamma=0.99, epsilon=1e-5, **kwargs):   # it's important to put **kwargs to ensure compatibility with the base class \n",
        "        \"\"\"\n",
        "        gamma: discount factor\n",
        "        episilon: precision of value iteration\n",
        "        \"\"\"\n",
        "        AgentWithSimplePolicy.__init__(self, env, **kwargs) # self.env is initialized in the base class\n",
        "\n",
        "        self.gamma = gamma\n",
        "        self.epsilon = epsilon \n",
        "        self.Q = None  # Q function to be computed in fit()\n",
        "    \n",
        "    def fit(self, budget=None, **kwargs):  \n",
        "        \"\"\"\n",
        "        Run value iteration.\n",
        "        \"\"\"\n",
        "        S, A = env.observation_space.n, env.action_space.n \n",
        "        Q = np.zeros((S, A))\n",
        "        V = np.zeros(S)\n",
        "\n",
        "        while True:\n",
        "            TQ = np.zeros((S, A))\n",
        "            for ss in range(S):\n",
        "                for aa in range(A):\n",
        "                    TQ[ss, aa] = env.R[ss, aa] + self.gamma*env.P[ss, aa, :].dot(V)\n",
        "            V = TQ.max(axis=1)\n",
        "\n",
        "            if np.abs(TQ-Q).max() < self.epsilon:\n",
        "                break\n",
        "            Q = TQ\n",
        "        self.Q = Q\n",
        "          \n",
        "    def policy(self, observation):\n",
        "        return self.Q[observation, :].argmax()\n",
        "\n",
        "    \n",
        "    @classmethod\n",
        "    def sample_parameters(cls, trial):\n",
        "      \"\"\"\n",
        "      Sample hyperparameters for hyperparam optimization using Optuna (https://optuna.org/)\n",
        "      \"\"\"\n",
        "      gamma = trial.suggest_categorical('gamma', [0.1, 0.25, 0.5, 0.75, 0.99])\n",
        "      return {'gamma':gamma}\n"
      ],
      "execution_count": 4,
      "outputs": []
    },
    {
      "cell_type": "code",
      "metadata": {
        "colab": {
          "base_uri": "https://localhost:8080/",
          "height": 421
        },
        "id": "W3r5WHYZctYN",
        "outputId": "d6a74fa2-eee5-4a5e-a833-497498a2d3e6"
      },
      "source": [
        "# Now, let's fit and test the agent!\n",
        "agent = ValueIterationAgent(env)\n",
        "agent.fit()\n",
        "\n",
        "\n",
        "# Run agent's policy\n",
        "env.enable_rendering()\n",
        "state = env.reset()\n",
        "for tt in range(20):\n",
        "    action = agent.policy(state)\n",
        "    state, reward, is_terminal, info = env.step(action)\n",
        "\n",
        "# save video and clear buffer\n",
        "env.save_video('./videos/gw.mp4', framerate=5)\n",
        "env.clear_render_buffer()\n",
        "# show video\n",
        "show_video('./videos/gw.mp4')\n"
      ],
      "execution_count": 5,
      "outputs": [
        {
          "output_type": "display_data",
          "data": {
            "text/html": [
              "<video alt=\"videos/gw.mp4\" autoplay\n",
              "                      loop controls style=\"height: 400px;\">\n",
              "                    <source src=\"data:video/mp4;base64,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\" type=\"video/mp4\" />\n",
              "                 </video>"
            ],
            "text/plain": [
              "<IPython.core.display.HTML object>"
            ]
          },
          "metadata": {}
        }
      ]
    },
    {
      "cell_type": "markdown",
      "metadata": {
        "id": "7XV-Z1Znen44"
      },
      "source": [
        "# `AgentManager`: A powerfull class for hyperparameter optimization, training and evaluating agents."
      ]
    },
    {
      "cell_type": "code",
      "metadata": {
        "id": "l3OCUH2YfhOQ"
      },
      "source": [
        "# Create random agent as a baseline\n",
        "class RandomAgent(AgentWithSimplePolicy):\n",
        "    name = 'RandomAgent'\n",
        "    def __init__(self, env, **kwargs):\n",
        "        AgentWithSimplePolicy.__init__(self, env, **kwargs)\n",
        "\n",
        "    def fit(self, budget=None, **kwargs):  \n",
        "        pass\n",
        "          \n",
        "    def policy(self, observation):\n",
        "        return self.env.action_space.sample()"
      ],
      "execution_count": 6,
      "outputs": []
    },
    {
      "cell_type": "code",
      "metadata": {
        "colab": {
          "base_uri": "https://localhost:8080/",
          "height": 891
        },
        "id": "ePl7Bqq2eniv",
        "outputId": "b3eed2f0-fb06-4513-f5e2-a6e5135392af"
      },
      "source": [
        "from rlberry.manager import AgentManager, evaluate_agents\n",
        "\n",
        "# Define parameters\n",
        "vi_params = {'gamma':0.1, 'epsilon':1e-3}\n",
        "\n",
        "# Create AgentManager to fit 4 agents using 1 job\n",
        "vi_stats = AgentManager(\n",
        "    ValueIterationAgent,\n",
        "    (env_ctor, env_kwargs),\n",
        "    fit_budget=0,\n",
        "    eval_kwargs=dict(eval_horizon=20),\n",
        "    init_kwargs=vi_params,\n",
        "    n_fit=4)\n",
        "vi_stats.fit()\n",
        "\n",
        "# Create AgentManager for baseline\n",
        "baseline_stats = AgentManager(\n",
        "    RandomAgent,\n",
        "    (env_ctor, env_kwargs),\n",
        "    fit_budget=0,\n",
        "    eval_kwargs=dict(eval_horizon=20),\n",
        "    n_fit=1)\n",
        "baseline_stats.fit()\n",
        "\n",
        "# Compare policies using 10 Monte Carlo simulations\n",
        "output = evaluate_agents([vi_stats, baseline_stats], n_simulations=10)\n"
      ],
      "execution_count": 7,
      "outputs": [
        {
          "output_type": "stream",
          "name": "stderr",
          "text": [
            "[INFO] Training AgentManager for ValueIterationAgent...  \n",
            "[INFO] Sucessful call to AgentHandler.dump() for <class '__main__.ValueIterationAgent'> \n",
            "[INFO] Sucessful call to AgentHandler.dump() for <class '__main__.ValueIterationAgent'> \n",
            "[INFO] Sucessful call to AgentHandler.dump() for <class '__main__.ValueIterationAgent'> \n",
            "[INFO] Sucessful call to AgentHandler.dump() for <class '__main__.ValueIterationAgent'> \n",
            "[INFO] ... trained! \n",
            "[INFO] Sucessful call to AgentHandler.load() for <class '__main__.ValueIterationAgent'> \n",
            "[INFO] Sucessful call to AgentHandler.load() for <class '__main__.ValueIterationAgent'> \n",
            "[INFO] Sucessful call to AgentHandler.load() for <class '__main__.ValueIterationAgent'> \n",
            "[INFO] Sucessful call to AgentHandler.load() for <class '__main__.ValueIterationAgent'> \n",
            "[INFO] Training AgentManager for RandomAgent...  \n",
            "[INFO] Sucessful call to AgentHandler.dump() for <class '__main__.RandomAgent'> \n",
            "[INFO] ... trained! \n",
            "[INFO] Sucessful call to AgentHandler.load() for <class '__main__.RandomAgent'> \n",
            "[INFO] Evaluating ValueIterationAgent... \n",
            "[INFO] ... simulation 1/10 \n",
            "[INFO] ... simulation 2/10 \n",
            "[INFO] ... simulation 3/10 \n",
            "[INFO] ... simulation 4/10 \n",
            "[INFO] ... simulation 5/10 \n",
            "[INFO] ... simulation 6/10 \n",
            "[INFO] ... simulation 7/10 \n",
            "[INFO] ... simulation 8/10 \n",
            "[INFO] ... simulation 9/10 \n",
            "[INFO] ... simulation 10/10 \n",
            "[INFO] Evaluating RandomAgent... \n",
            "[INFO] ... simulation 1/10 \n",
            "[INFO] ... simulation 2/10 \n",
            "[INFO] ... simulation 3/10 \n",
            "[INFO] ... simulation 4/10 \n",
            "[INFO] ... simulation 5/10 \n",
            "[INFO] ... simulation 6/10 \n",
            "[INFO] ... simulation 7/10 \n",
            "[INFO] ... simulation 8/10 \n",
            "[INFO] ... simulation 9/10 \n",
            "[INFO] ... simulation 10/10 \n"
          ]
        },
        {
          "output_type": "display_data",
          "data": {
            "image/png": "[encoded data removed]",
            "text/plain": [
              "<Figure size 432x288 with 1 Axes>"
            ]
          },
          "metadata": {
            "needs_background": "light"
          }
        }
      ]
    },
    {
      "cell_type": "code",
      "metadata": {
        "colab": {
          "base_uri": "https://localhost:8080/",
          "height": 1000
        },
        "id": "slTijRljiamE",
        "outputId": "34cc705f-5eb8-45e1-a2b6-c8add10e25c8"
      },
      "source": [
        "# The value of gamma above makes our VI agent quite bad! Let's optimize it.\n",
        "vi_stats.optimize_hyperparams(n_trials=30, timeout=30, n_fit=1, sampler_method='random', pruner_method='none')\n",
        "\n",
        "# fit with optimized params\n",
        "vi_stats.fit()\n",
        "\n",
        "# ... and see the results\n",
        "output = evaluate_agents([vi_stats, baseline_stats])\n"
      ],
      "execution_count": 8,
      "outputs": [
        {
          "output_type": "stream",
          "name": "stdout",
          "text": [
            "Connected to temp/stats_ValueIterationAgent_1632909168/data_1401969177125921632909168.db (sqlite3 version = 2.6.0)\n"
          ]
        },
        {
          "output_type": "stream",
          "name": "stderr",
          "text": [
            "\u001b[32m[I 2021-09-29 09:52:51,282]\u001b[0m A new study created in RDB with name: no-name-7b7549cb-d757-493c-abcf-d0b52e7bd952\u001b[0m\n",
            "[INFO] Sucessful call to AgentHandler.dump() for <class '__main__.ValueIterationAgent'> \n",
            "[INFO] Sucessful call to AgentHandler.dump() for <class '__main__.ValueIterationAgent'> \n",
            "[INFO] Sucessful call to AgentHandler.dump() for <class '__main__.ValueIterationAgent'> \n",
            "[INFO] Sucessful call to AgentHandler.dump() for <class '__main__.ValueIterationAgent'> \n",
            "[INFO] Saved AgentManager(ValueIterationAgent) using pickle. \n",
            "[INFO] Training AgentManager for optim...  \n",
            "[INFO] Sucessful call to AgentHandler.dump() for <class '__main__.ValueIterationAgent'> \n",
            "[INFO] ... trained! \n",
            "[INFO] Sucessful call to AgentHandler.load() for <class '__main__.ValueIterationAgent'> \n",
            "\u001b[32m[I 2021-09-29 09:52:51,618]\u001b[0m Trial 0 finished with value: 0.7999999999999999 and parameters: {'gamma': 0.25}. Best is trial 0 with value: 0.7999999999999999.\u001b[0m\n",
            "[INFO] Training AgentManager for optim...  \n",
            "[INFO] Sucessful call to AgentHandler.dump() for <class '__main__.ValueIterationAgent'> \n",
            "[INFO] ... trained! \n",
            "[INFO] Sucessful call to AgentHandler.load() for <class '__main__.ValueIterationAgent'> \n",
            "\u001b[32m[I 2021-09-29 09:52:52,027]\u001b[0m Trial 1 finished with value: 1.0000000000000002 and parameters: {'gamma': 0.75}. Best is trial 1 with value: 1.0000000000000002.\u001b[0m\n",
            "[INFO] Training AgentManager for optim...  \n",
            "[INFO] Sucessful call to AgentHandler.dump() for <class '__main__.ValueIterationAgent'> \n",
            "[INFO] ... trained! \n",
            "[INFO] Sucessful call to AgentHandler.load() for <class '__main__.ValueIterationAgent'> \n",
            "\u001b[32m[I 2021-09-29 09:52:52,409]\u001b[0m Trial 2 finished with value: 0.8099999999999998 and parameters: {'gamma': 0.1}. Best is trial 1 with value: 1.0000000000000002.\u001b[0m\n",
            "[INFO] Training AgentManager for optim...  \n",
            "[INFO] Sucessful call to AgentHandler.dump() for <class '__main__.ValueIterationAgent'> \n",
            "[INFO] ... trained! \n",
            "[INFO] Sucessful call to AgentHandler.load() for <class '__main__.ValueIterationAgent'> \n",
            "\u001b[32m[I 2021-09-29 09:52:52,799]\u001b[0m Trial 3 finished with value: 0.82 and parameters: {'gamma': 0.25}. Best is trial 1 with value: 1.0000000000000002.\u001b[0m\n",
            "[INFO] Training AgentManager for optim...  \n",
            "[INFO] Sucessful call to AgentHandler.dump() for <class '__main__.ValueIterationAgent'> \n",
            "[INFO] ... trained! \n",
            "[INFO] Sucessful call to AgentHandler.load() for <class '__main__.ValueIterationAgent'> \n",
            "\u001b[32m[I 2021-09-29 09:52:53,181]\u001b[0m Trial 4 finished with value: 0.86 and parameters: {'gamma': 0.1}. Best is trial 1 with value: 1.0000000000000002.\u001b[0m\n",
            "[INFO] Training AgentManager for optim...  \n",
            "[INFO] Sucessful call to AgentHandler.dump() for <class '__main__.ValueIterationAgent'> \n",
            "[INFO] ... trained! \n",
            "[INFO] Sucessful call to AgentHandler.load() for <class '__main__.ValueIterationAgent'> \n",
            "\u001b[32m[I 2021-09-29 09:52:53,570]\u001b[0m Trial 5 finished with value: 0.6799999999999999 and parameters: {'gamma': 0.75}. Best is trial 1 with value: 1.0000000000000002.\u001b[0m\n",
            "[INFO] Training AgentManager for optim...  \n",
            "[INFO] Sucessful call to AgentHandler.dump() for <class '__main__.ValueIterationAgent'> \n",
            "[INFO] ... trained! \n",
            "[INFO] Sucessful call to AgentHandler.load() for <class '__main__.ValueIterationAgent'> \n",
            "\u001b[32m[I 2021-09-29 09:52:54,138]\u001b[0m Trial 6 finished with value: 1.0 and parameters: {'gamma': 0.99}. Best is trial 1 with value: 1.0000000000000002.\u001b[0m\n",
            "[INFO] Training AgentManager for optim...  \n",
            "[INFO] Sucessful call to AgentHandler.dump() for <class '__main__.ValueIterationAgent'> \n",
            "[INFO] ... trained! \n",
            "[INFO] Sucessful call to AgentHandler.load() for <class '__main__.ValueIterationAgent'> \n",
            "\u001b[32m[I 2021-09-29 09:52:54,530]\u001b[0m Trial 7 finished with value: 0.7999999999999999 and parameters: {'gamma': 0.5}. Best is trial 1 with value: 1.0000000000000002.\u001b[0m\n",
            "[INFO] Training AgentManager for optim...  \n",
            "[INFO] Sucessful call to AgentHandler.dump() for <class '__main__.ValueIterationAgent'> \n",
            "[INFO] ... trained! \n",
            "[INFO] Sucessful call to AgentHandler.load() for <class '__main__.ValueIterationAgent'> \n",
            "\u001b[32m[I 2021-09-29 09:52:54,911]\u001b[0m Trial 8 finished with value: 0.7999999999999999 and parameters: {'gamma': 0.1}. Best is trial 1 with value: 1.0000000000000002.\u001b[0m\n",
            "[INFO] Training AgentManager for optim...  \n",
            "[INFO] Sucessful call to AgentHandler.dump() for <class '__main__.ValueIterationAgent'> \n",
            "[INFO] ... trained! \n",
            "[INFO] Sucessful call to AgentHandler.load() for <class '__main__.ValueIterationAgent'> \n",
            "\u001b[32m[I 2021-09-29 09:52:55,289]\u001b[0m Trial 9 finished with value: 0.7699999999999999 and parameters: {'gamma': 0.5}. Best is trial 1 with value: 1.0000000000000002.\u001b[0m\n",
            "[INFO] Training AgentManager for optim...  \n",
            "[INFO] Sucessful call to AgentHandler.dump() for <class '__main__.ValueIterationAgent'> \n",
            "[INFO] ... trained! \n",
            "[INFO] Sucessful call to AgentHandler.load() for <class '__main__.ValueIterationAgent'> \n",
            "\u001b[32m[I 2021-09-29 09:52:55,687]\u001b[0m Trial 10 finished with value: 0.8300000000000001 and parameters: {'gamma': 0.1}. Best is trial 1 with value: 1.0000000000000002.\u001b[0m\n",
            "[INFO] Training AgentManager for optim...  \n",
            "[INFO] Sucessful call to AgentHandler.dump() for <class '__main__.ValueIterationAgent'> \n",
            "[INFO] ... trained! \n",
            "[INFO] Sucessful call to AgentHandler.load() for <class '__main__.ValueIterationAgent'> \n",
            "\u001b[32m[I 2021-09-29 09:52:56,243]\u001b[0m Trial 11 finished with value: 0.9199999999999999 and parameters: {'gamma': 0.99}. Best is trial 1 with value: 1.0000000000000002.\u001b[0m\n",
            "[INFO] Training AgentManager for optim...  \n",
            "[INFO] Sucessful call to AgentHandler.dump() for <class '__main__.ValueIterationAgent'> \n",
            "[INFO] ... trained! \n",
            "[INFO] Sucessful call to AgentHandler.load() for <class '__main__.ValueIterationAgent'> \n",
            "\u001b[32m[I 2021-09-29 09:52:56,620]\u001b[0m Trial 12 finished with value: 0.7699999999999999 and parameters: {'gamma': 0.5}. Best is trial 1 with value: 1.0000000000000002.\u001b[0m\n",
            "[INFO] Training AgentManager for optim...  \n",
            "[INFO] Sucessful call to AgentHandler.dump() for <class '__main__.ValueIterationAgent'> \n",
            "[INFO] ... trained! \n",
            "[INFO] Sucessful call to AgentHandler.load() for <class '__main__.ValueIterationAgent'> \n",
            "\u001b[32m[I 2021-09-29 09:52:56,995]\u001b[0m Trial 13 finished with value: 0.7699999999999999 and parameters: {'gamma': 0.25}. Best is trial 1 with value: 1.0000000000000002.\u001b[0m\n",
            "[INFO] Training AgentManager for optim...  \n",
            "[INFO] Sucessful call to AgentHandler.dump() for <class '__main__.ValueIterationAgent'> \n",
            "[INFO] ... trained! \n",
            "[INFO] Sucessful call to AgentHandler.load() for <class '__main__.ValueIterationAgent'> \n",
            "\u001b[32m[I 2021-09-29 09:52:57,395]\u001b[0m Trial 14 finished with value: 0.8400000000000001 and parameters: {'gamma': 0.1}. Best is trial 1 with value: 1.0000000000000002.\u001b[0m\n",
            "[INFO] Training AgentManager for optim...  \n",
            "[INFO] Sucessful call to AgentHandler.dump() for <class '__main__.ValueIterationAgent'> \n",
            "[INFO] ... trained! \n",
            "[INFO] Sucessful call to AgentHandler.load() for <class '__main__.ValueIterationAgent'> \n",
            "\u001b[32m[I 2021-09-29 09:52:57,814]\u001b[0m Trial 15 finished with value: 0.85 and parameters: {'gamma': 0.75}. Best is trial 1 with value: 1.0000000000000002.\u001b[0m\n",
            "[INFO] Training AgentManager for optim...  \n",
            "[INFO] Sucessful call to AgentHandler.dump() for <class '__main__.ValueIterationAgent'> \n",
            "[INFO] ... trained! \n",
            "[INFO] Sucessful call to AgentHandler.load() for <class '__main__.ValueIterationAgent'> \n",
            "\u001b[32m[I 2021-09-29 09:52:58,366]\u001b[0m Trial 16 finished with value: 1.0 and parameters: {'gamma': 0.99}. Best is trial 1 with value: 1.0000000000000002.\u001b[0m\n",
            "[INFO] Training AgentManager for optim...  \n",
            "[INFO] Sucessful call to AgentHandler.dump() for <class '__main__.ValueIterationAgent'> \n",
            "[INFO] ... trained! \n",
            "[INFO] Sucessful call to AgentHandler.load() for <class '__main__.ValueIterationAgent'> \n",
            "\u001b[32m[I 2021-09-29 09:52:58,936]\u001b[0m Trial 17 finished with value: 1.02 and parameters: {'gamma': 0.99}. Best is trial 17 with value: 1.02.\u001b[0m\n",
            "[INFO] Training AgentManager for optim...  \n",
            "[INFO] Sucessful call to AgentHandler.dump() for <class '__main__.ValueIterationAgent'> \n",
            "[INFO] ... trained! \n",
            "[INFO] Sucessful call to AgentHandler.load() for <class '__main__.ValueIterationAgent'> \n",
            "\u001b[32m[I 2021-09-29 09:52:59,519]\u001b[0m Trial 18 finished with value: 1.02 and parameters: {'gamma': 0.99}. Best is trial 17 with value: 1.02.\u001b[0m\n",
            "[INFO] Training AgentManager for optim...  \n",
            "[INFO] Sucessful call to AgentHandler.dump() for <class '__main__.ValueIterationAgent'> \n",
            "[INFO] ... trained! \n",
            "[INFO] Sucessful call to AgentHandler.load() for <class '__main__.ValueIterationAgent'> \n",
            "\u001b[32m[I 2021-09-29 09:52:59,903]\u001b[0m Trial 19 finished with value: 0.7799999999999999 and parameters: {'gamma': 0.25}. Best is trial 17 with value: 1.02.\u001b[0m\n",
            "[INFO] Training AgentManager for optim...  \n",
            "[INFO] Sucessful call to AgentHandler.dump() for <class '__main__.ValueIterationAgent'> \n",
            "[INFO] ... trained! \n",
            "[INFO] Sucessful call to AgentHandler.load() for <class '__main__.ValueIterationAgent'> \n",
            "\u001b[32m[I 2021-09-29 09:53:00,477]\u001b[0m Trial 20 finished with value: 1.0299999999999998 and parameters: {'gamma': 0.99}. Best is trial 20 with value: 1.0299999999999998.\u001b[0m\n",
            "[INFO] Training AgentManager for optim...  \n",
            "[INFO] Sucessful call to AgentHandler.dump() for <class '__main__.ValueIterationAgent'> \n",
            "[INFO] ... trained! \n",
            "[INFO] Sucessful call to AgentHandler.load() for <class '__main__.ValueIterationAgent'> \n",
            "\u001b[32m[I 2021-09-29 09:53:00,868]\u001b[0m Trial 21 finished with value: 0.7499999999999999 and parameters: {'gamma': 0.25}. Best is trial 20 with value: 1.0299999999999998.\u001b[0m\n",
            "[INFO] Training AgentManager for optim...  \n",
            "[INFO] Sucessful call to AgentHandler.dump() for <class '__main__.ValueIterationAgent'> \n",
            "[INFO] ... trained! \n",
            "[INFO] Sucessful call to AgentHandler.load() for <class '__main__.ValueIterationAgent'> \n",
            "\u001b[32m[I 2021-09-29 09:53:01,479]\u001b[0m Trial 22 finished with value: 1.01 and parameters: {'gamma': 0.99}. Best is trial 20 with value: 1.0299999999999998.\u001b[0m\n",
            "[INFO] Training AgentManager for optim...  \n",
            "[INFO] Sucessful call to AgentHandler.dump() for <class '__main__.ValueIterationAgent'> \n",
            "[INFO] ... trained! \n",
            "[INFO] Sucessful call to AgentHandler.load() for <class '__main__.ValueIterationAgent'> \n",
            "\u001b[32m[I 2021-09-29 09:53:01,853]\u001b[0m Trial 23 finished with value: 0.76 and parameters: {'gamma': 0.25}. Best is trial 20 with value: 1.0299999999999998.\u001b[0m\n",
            "[INFO] Training AgentManager for optim...  \n",
            "[INFO] Sucessful call to AgentHandler.dump() for <class '__main__.ValueIterationAgent'> \n",
            "[INFO] ... trained! \n",
            "[INFO] Sucessful call to AgentHandler.load() for <class '__main__.ValueIterationAgent'> \n",
            "\u001b[32m[I 2021-09-29 09:53:02,224]\u001b[0m Trial 24 finished with value: 0.8200000000000001 and parameters: {'gamma': 0.5}. Best is trial 20 with value: 1.0299999999999998.\u001b[0m\n",
            "[INFO] Training AgentManager for optim...  \n",
            "[INFO] Sucessful call to AgentHandler.dump() for <class '__main__.ValueIterationAgent'> \n",
            "[INFO] ... trained! \n",
            "[INFO] Sucessful call to AgentHandler.load() for <class '__main__.ValueIterationAgent'> \n",
            "\u001b[32m[I 2021-09-29 09:53:02,614]\u001b[0m Trial 25 finished with value: 0.8399999999999999 and parameters: {'gamma': 0.1}. Best is trial 20 with value: 1.0299999999999998.\u001b[0m\n",
            "[INFO] Training AgentManager for optim...  \n",
            "[INFO] Sucessful call to AgentHandler.dump() for <class '__main__.ValueIterationAgent'> \n",
            "[INFO] ... trained! \n",
            "[INFO] Sucessful call to AgentHandler.load() for <class '__main__.ValueIterationAgent'> \n",
            "\u001b[32m[I 2021-09-29 09:53:02,987]\u001b[0m Trial 26 finished with value: 0.82 and parameters: {'gamma': 0.25}. Best is trial 20 with value: 1.0299999999999998.\u001b[0m\n",
            "[INFO] Training AgentManager for optim...  \n",
            "[INFO] Sucessful call to AgentHandler.dump() for <class '__main__.ValueIterationAgent'> \n",
            "[INFO] ... trained! \n",
            "[INFO] Sucessful call to AgentHandler.load() for <class '__main__.ValueIterationAgent'> \n",
            "\u001b[32m[I 2021-09-29 09:53:03,382]\u001b[0m Trial 27 finished with value: 0.8400000000000001 and parameters: {'gamma': 0.25}. Best is trial 20 with value: 1.0299999999999998.\u001b[0m\n",
            "[INFO] Training AgentManager for optim...  \n",
            "[INFO] Sucessful call to AgentHandler.dump() for <class '__main__.ValueIterationAgent'> \n",
            "[INFO] ... trained! \n",
            "[INFO] Sucessful call to AgentHandler.load() for <class '__main__.ValueIterationAgent'> \n",
            "\u001b[32m[I 2021-09-29 09:53:03,787]\u001b[0m Trial 28 finished with value: 0.7799999999999999 and parameters: {'gamma': 0.1}. Best is trial 20 with value: 1.0299999999999998.\u001b[0m\n",
            "[INFO] Training AgentManager for optim...  \n",
            "[INFO] Sucessful call to AgentHandler.dump() for <class '__main__.ValueIterationAgent'> \n",
            "[INFO] ... trained! \n",
            "[INFO] Sucessful call to AgentHandler.load() for <class '__main__.ValueIterationAgent'> \n",
            "\u001b[32m[I 2021-09-29 09:53:04,166]\u001b[0m Trial 29 finished with value: 0.82 and parameters: {'gamma': 0.1}. Best is trial 20 with value: 1.0299999999999998.\u001b[0m\n",
            "[INFO] Number of finished trials: 30 \n",
            "[INFO] Best trial: \n",
            "[INFO] Value: 1.0299999999999998 \n",
            "[INFO] Params: \n",
            "[INFO]     gamma: 0.99 \n",
            "[INFO] Training AgentManager for ValueIterationAgent...  \n",
            "[INFO] Sucessful call to AgentHandler.dump() for <class '__main__.ValueIterationAgent'> \n",
            "[INFO] Sucessful call to AgentHandler.dump() for <class '__main__.ValueIterationAgent'> \n",
            "[INFO] Sucessful call to AgentHandler.dump() for <class '__main__.ValueIterationAgent'> \n",
            "[INFO] Sucessful call to AgentHandler.dump() for <class '__main__.ValueIterationAgent'> \n",
            "[INFO] ... trained! \n",
            "[INFO] Sucessful call to AgentHandler.load() for <class '__main__.ValueIterationAgent'> \n",
            "[INFO] Sucessful call to AgentHandler.load() for <class '__main__.ValueIterationAgent'> \n",
            "[INFO] Sucessful call to AgentHandler.load() for <class '__main__.ValueIterationAgent'> \n",
            "[INFO] Sucessful call to AgentHandler.load() for <class '__main__.ValueIterationAgent'> \n",
            "[INFO] Evaluating ValueIterationAgent... \n",
            "[INFO] ... simulation 1/5 \n",
            "[INFO] ... simulation 2/5 \n",
            "[INFO] ... simulation 3/5 \n",
            "[INFO] ... simulation 4/5 \n",
            "[INFO] ... simulation 5/5 \n",
            "[INFO] Evaluating RandomAgent... \n",
            "[INFO] ... simulation 1/5 \n",
            "[INFO] ... simulation 2/5 \n",
            "[INFO] ... simulation 3/5 \n",
            "[INFO] ... simulation 4/5 \n",
            "[INFO] ... simulation 5/5 \n"
          ]
        },
        {
          "output_type": "display_data",
          "data": {
            "image/png": "[encoded data removed]",
            "text/plain": [
              "<Figure size 432x288 with 1 Axes>"
            ]
          },
          "metadata": {
            "needs_background": "light"
          }
        }
      ]
    },
    {
      "cell_type": "code",
      "metadata": {
        "id": "NsJrVDT6hpeB"
      },
      "source": [
        "# clear generated data\n",
        "vi_stats.clear_output_dir()\n",
        "baseline_stats.clear_output_dir()"
      ],
      "execution_count": 9,
      "outputs": []
    }
  ]
}