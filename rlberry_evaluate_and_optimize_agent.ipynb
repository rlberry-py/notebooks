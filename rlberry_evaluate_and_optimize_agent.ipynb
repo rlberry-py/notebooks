{
  "nbformat": 4,
  "nbformat_minor": 0,
  "metadata": {
    "colab": {
      "name": "rlberry_evaluate_and_optimize_agent.ipynb",
      "provenance": [],
      "collapsed_sections": [],
      "include_colab_link": true
    },
    "kernelspec": {
      "name": "python3",
      "display_name": "Python 3.7.11 64-bit ('rlberry': conda)"
    },
    "language_info": {
      "name": "python",
      "version": "3.7.11",
      "mimetype": "text/x-python",
      "codemirror_mode": {
        "name": "ipython",
        "version": 3
      },
      "pygments_lexer": "ipython3",
      "nbconvert_exporter": "python",
      "file_extension": ".py"
    },
    "interpreter": {
      "hash": "77626d6da4f24721c6cde6592fa6521e12f75aa06b21b1ac25df0859aa7f2530"
    }
  },
  "cells": [
    {
      "cell_type": "markdown",
      "metadata": {
        "id": "view-in-github",
        "colab_type": "text"
      },
      "source": [
        "<a href=\"https://colab.research.google.com/github/rlberry-py/notebooks/blob/main/rlberry_evaluate_and_optimize_agent.ipynb\" target=\"_parent\"><img src=\"https://colab.research.google.com/assets/colab-badge.svg\" alt=\"Open In Colab\"/></a>"
      ]
    },
    {
      "cell_type": "markdown",
      "source": [
        "# Evaluate an agent and optimize its hyperparameters with `rlberry`"
      ],
      "metadata": {
        "id": "sjoqYioOnAQB"
      }
    },
    {
      "cell_type": "markdown",
      "source": [
        "## Colab Setup"
      ],
      "metadata": {
        "id": "MsUygvTOnJO_"
      }
    },
    {
      "cell_type": "code",
      "execution_count": 1,
      "source": [
        "from IPython import get_ipython\n",
        "COLAB = False\n",
        "if 'google.colab' in str(get_ipython()):\n",
        "    COLAB = True\n",
        "\n",
        "if COLAB:\n",
        "    # install rlberry library\n",
        "    !pip install git+https://github.com/rlberry-py/rlberry.git@v0.2.1#egg=rlberry[default] > /dev/null 2>&1\n",
        "\n",
        "    !apt-get install -y xvfb python-opengl ffmpeg > /dev/null 2>&1\n",
        "\n",
        "    print(\"\")\n",
        "    print(\" ~~~  Libraries installed, please restart the runtime! ~~~ \")\n",
        "    print(\"\")\n"
      ],
      "outputs": [
        {
          "output_type": "stream",
          "name": "stdout",
          "text": [
            "\n",
            " ~~~  Libraries installed, please restart the runtime! ~~~ \n",
            "\n"
          ]
        }
      ],
      "metadata": {
        "colab": {
          "base_uri": "https://localhost:8080/"
        },
        "id": "mh5ZCgwlmxJ1",
        "outputId": "0f907839-fcc4-4b8a-a764-7f653d953b0d"
      }
    },
    {
      "cell_type": "markdown",
      "source": [
        "## `AgentManager`: training several instances of an agent\n",
        "\n",
        "The class `AgentManager` can be used to train several instances of an agent (in parallel), optimize its hyperparameters and analyze its performance.\n",
        "\n",
        "Check the code below to learn how!"
      ],
      "metadata": {
        "id": "kCaQFlRZnLZH"
      }
    },
    {
      "cell_type": "code",
      "execution_count": 2,
      "source": [
        "from rlberry.envs import gym_make\n",
        "from rlberry.agents.torch.reinforce import REINFORCEAgent\n",
        "from rlberry.manager import AgentManager, plot_writer_data\n",
        "\n",
        "\n",
        "# Environment\n",
        "env_ctor = gym_make\n",
        "env_kwargs = dict(id='CartPole-v0')\n",
        "env = env_ctor(**env_kwargs)\n",
        "\n",
        "# Initial set of parameters\n",
        "params = dict(\n",
        "    gamma=0.99,\n",
        "    horizon=200\n",
        ")\n",
        "\n",
        "# Create AgentManager to fit 2 instances of REINFORCE in parallel.\n",
        "stats = AgentManager(REINFORCEAgent,\n",
        "                   (env_ctor, env_kwargs),\n",
        "                   fit_budget=500,   # number of episodes\n",
        "                   init_kwargs=params,\n",
        "                   eval_kwargs=dict(eval_horizon=200),\n",
        "                   n_fit=2,\n",
        "                   parallelization='thread')\n",
        "\n",
        "# Fit the 4 instances\n",
        "stats.fit()\n",
        "\n",
        "# The fit() method of REINFORCEAgent writes data to a DefaultWriter (rlberry.utils.writer)\n",
        "# object, which can be plotted with the method below.\n",
        "plot_writer_data(stats, tag='episode_rewards')"
      ],
      "outputs": [
        {
          "output_type": "stream",
          "name": "stderr",
          "text": [
            "[INFO] OpenGL_accelerate module loaded \n",
            "[INFO] Using accelerated ArrayDatatype \n",
            "[INFO] Generating grammar tables from /usr/lib/python3.7/lib2to3/Grammar.txt \n",
            "[INFO] Generating grammar tables from /usr/lib/python3.7/lib2to3/PatternGrammar.txt \n",
            "[INFO] Running AgentManager fit() for REINFORCE...  \n",
            "[INFO] Could not find least used device (nvidia-smi might be missing), use cuda:0 instead \n"
          ]
        },
        {
          "output_type": "stream",
          "name": "stdout",
          "text": [
            "INFO: Making new env: CartPole-v0\n",
            "INFO: Making new env: CartPole-v0\n",
            "INFO: Making new env: CartPole-v0\n"
          ]
        },
        {
          "output_type": "stream",
          "name": "stderr",
          "text": [
            "[INFO] Could not find least used device (nvidia-smi might be missing), use cuda:0 instead \n"
          ]
        },
        {
          "output_type": "stream",
          "name": "stdout",
          "text": [
            "INFO: Making new env: CartPole-v0\n",
            "INFO: Making new env: CartPole-v0\n"
          ]
        },
        {
          "output_type": "stream",
          "name": "stderr",
          "text": [
            "/usr/local/lib/python3.7/dist-packages/rlberry/agents/torch/reinforce/reinforce.py:188: UserWarning: Creating a tensor from a list of numpy.ndarrays is extremely slow. Please consider converting the list to a single numpy.ndarray with numpy.array() before converting to a tensor. (Triggered internally at  ../torch/csrc/utils/tensor_new.cpp:201.)\n",
            "  states = torch.FloatTensor(self.memory.states).to(self.device)\n",
            "[INFO] [REINFORCE[worker: 1]] | max_global_step = 120 | episode_rewards = 34.0 | dw_time_elapsed = 3.0056547020000153 |  \n",
            "[INFO] [REINFORCE[worker: 0]] | max_global_step = 129 | episode_rewards = 19.0 | dw_time_elapsed = 3.0063819619999776 |  \n",
            "[INFO] [REINFORCE[worker: 1]] | max_global_step = 267 | episode_rewards = 17.0 | dw_time_elapsed = 6.027439900000019 |  \n",
            "[INFO] [REINFORCE[worker: 0]] | max_global_step = 277 | episode_rewards = 21.0 | dw_time_elapsed = 6.036842956999976 |  \n",
            "[INFO] [REINFORCE[worker: 1]] | max_global_step = 385 | episode_rewards = 20.0 | dw_time_elapsed = 9.051516378000002 |  \n",
            "[INFO] [REINFORCE[worker: 0]] | max_global_step = 386 | episode_rewards = 57.0 | dw_time_elapsed = 9.089783515999983 |  \n",
            "[INFO] ... trained! \n",
            "[INFO] Could not find least used device (nvidia-smi might be missing), use cuda:0 instead \n",
            "[INFO] Could not find least used device (nvidia-smi might be missing), use cuda:0 instead \n"
          ]
        },
        {
          "output_type": "stream",
          "name": "stdout",
          "text": [
            "INFO: Making new env: CartPole-v0\n",
            "INFO: Making new env: CartPole-v0\n",
            "INFO: Making new env: CartPole-v0\n",
            "INFO: Making new env: CartPole-v0\n"
          ]
        },
        {
          "output_type": "display_data",
          "data": {
            "image/png": "[encoded data removed]",
            "text/plain": [
              "<Figure size 432x288 with 1 Axes>"
            ]
          },
          "metadata": {
            "needs_background": "light"
          }
        },
        {
          "output_type": "execute_result",
          "data": {
            "text/html": [
              "\n",
              "  <div id=\"df-72b79457-3734-42a2-bcba-8b3d516bfe89\">\n",
              "    <div class=\"colab-df-container\">\n",
              "      <div>\n",
              "<style scoped>\n",
              "    .dataframe tbody tr th:only-of-type {\n",
              "        vertical-align: middle;\n",
              "    }\n",
              "\n",
              "    .dataframe tbody tr th {\n",
              "        vertical-align: top;\n",
              "    }\n",
              "\n",
              "    .dataframe thead th {\n",
              "        text-align: right;\n",
              "    }\n",
              "</style>\n",
              "<table border=\"1\" class=\"dataframe\">\n",
              "  <thead>\n",
              "    <tr style=\"text-align: right;\">\n",
              "      <th></th>\n",
              "      <th>name</th>\n",
              "      <th>tag</th>\n",
              "      <th>value</th>\n",
              "      <th>global_step</th>\n",
              "    </tr>\n",
              "  </thead>\n",
              "  <tbody>\n",
              "    <tr>\n",
              "      <th>0</th>\n",
              "      <td>REINFORCE</td>\n",
              "      <td>episode_rewards</td>\n",
              "      <td>11.0</td>\n",
              "      <td>1</td>\n",
              "    </tr>\n",
              "    <tr>\n",
              "      <th>1</th>\n",
              "      <td>REINFORCE</td>\n",
              "      <td>episode_rewards</td>\n",
              "      <td>75.0</td>\n",
              "      <td>2</td>\n",
              "    </tr>\n",
              "    <tr>\n",
              "      <th>2</th>\n",
              "      <td>REINFORCE</td>\n",
              "      <td>episode_rewards</td>\n",
              "      <td>24.0</td>\n",
              "      <td>3</td>\n",
              "    </tr>\n",
              "    <tr>\n",
              "      <th>3</th>\n",
              "      <td>REINFORCE</td>\n",
              "      <td>episode_rewards</td>\n",
              "      <td>19.0</td>\n",
              "      <td>4</td>\n",
              "    </tr>\n",
              "    <tr>\n",
              "      <th>4</th>\n",
              "      <td>REINFORCE</td>\n",
              "      <td>episode_rewards</td>\n",
              "      <td>14.0</td>\n",
              "      <td>5</td>\n",
              "    </tr>\n",
              "    <tr>\n",
              "      <th>...</th>\n",
              "      <td>...</td>\n",
              "      <td>...</td>\n",
              "      <td>...</td>\n",
              "      <td>...</td>\n",
              "    </tr>\n",
              "    <tr>\n",
              "      <th>995</th>\n",
              "      <td>REINFORCE</td>\n",
              "      <td>episode_rewards</td>\n",
              "      <td>51.0</td>\n",
              "      <td>496</td>\n",
              "    </tr>\n",
              "    <tr>\n",
              "      <th>996</th>\n",
              "      <td>REINFORCE</td>\n",
              "      <td>episode_rewards</td>\n",
              "      <td>14.0</td>\n",
              "      <td>497</td>\n",
              "    </tr>\n",
              "    <tr>\n",
              "      <th>997</th>\n",
              "      <td>REINFORCE</td>\n",
              "      <td>episode_rewards</td>\n",
              "      <td>12.0</td>\n",
              "      <td>498</td>\n",
              "    </tr>\n",
              "    <tr>\n",
              "      <th>998</th>\n",
              "      <td>REINFORCE</td>\n",
              "      <td>episode_rewards</td>\n",
              "      <td>17.0</td>\n",
              "      <td>499</td>\n",
              "    </tr>\n",
              "    <tr>\n",
              "      <th>999</th>\n",
              "      <td>REINFORCE</td>\n",
              "      <td>episode_rewards</td>\n",
              "      <td>12.0</td>\n",
              "      <td>500</td>\n",
              "    </tr>\n",
              "  </tbody>\n",
              "</table>\n",
              "<p>1000 rows × 4 columns</p>\n",
              "</div>\n",
              "      <button class=\"colab-df-convert\" onclick=\"convertToInteractive('df-72b79457-3734-42a2-bcba-8b3d516bfe89')\"\n",
              "              title=\"Convert this dataframe to an interactive table.\"\n",
              "              style=\"display:none;\">\n",
              "        \n",
              "  <svg xmlns=\"http://www.w3.org/2000/svg\" height=\"24px\"viewBox=\"0 0 24 24\"\n",
              "       width=\"24px\">\n",
              "    <path d=\"M0 0h24v24H0V0z\" fill=\"none\"/>\n",
              "    <path d=\"M18.56 5.44l.94 2.06.94-2.06 2.06-.94-2.06-.94-.94-2.06-.94 2.06-2.06.94zm-11 1L8.5 8.5l.94-2.06 2.06-.94-2.06-.94L8.5 2.5l-.94 2.06-2.06.94zm10 10l.94 2.06.94-2.06 2.06-.94-2.06-.94-.94-2.06-.94 2.06-2.06.94z\"/><path d=\"M17.41 7.96l-1.37-1.37c-.4-.4-.92-.59-1.43-.59-.52 0-1.04.2-1.43.59L10.3 9.45l-7.72 7.72c-.78.78-.78 2.05 0 2.83L4 21.41c.39.39.9.59 1.41.59.51 0 1.02-.2 1.41-.59l7.78-7.78 2.81-2.81c.8-.78.8-2.07 0-2.86zM5.41 20L4 18.59l7.72-7.72 1.47 1.35L5.41 20z\"/>\n",
              "  </svg>\n",
              "      </button>\n",
              "      \n",
              "  <style>\n",
              "    .colab-df-container {\n",
              "      display:flex;\n",
              "      flex-wrap:wrap;\n",
              "      gap: 12px;\n",
              "    }\n",
              "\n",
              "    .colab-df-convert {\n",
              "      background-color: #E8F0FE;\n",
              "      border: none;\n",
              "      border-radius: 50%;\n",
              "      cursor: pointer;\n",
              "      display: none;\n",
              "      fill: #1967D2;\n",
              "      height: 32px;\n",
              "      padding: 0 0 0 0;\n",
              "      width: 32px;\n",
              "    }\n",
              "\n",
              "    .colab-df-convert:hover {\n",
              "      background-color: #E2EBFA;\n",
              "      box-shadow: 0px 1px 2px rgba(60, 64, 67, 0.3), 0px 1px 3px 1px rgba(60, 64, 67, 0.15);\n",
              "      fill: #174EA6;\n",
              "    }\n",
              "\n",
              "    [theme=dark] .colab-df-convert {\n",
              "      background-color: #3B4455;\n",
              "      fill: #D2E3FC;\n",
              "    }\n",
              "\n",
              "    [theme=dark] .colab-df-convert:hover {\n",
              "      background-color: #434B5C;\n",
              "      box-shadow: 0px 1px 3px 1px rgba(0, 0, 0, 0.15);\n",
              "      filter: drop-shadow(0px 1px 2px rgba(0, 0, 0, 0.3));\n",
              "      fill: #FFFFFF;\n",
              "    }\n",
              "  </style>\n",
              "\n",
              "      <script>\n",
              "        const buttonEl =\n",
              "          document.querySelector('#df-72b79457-3734-42a2-bcba-8b3d516bfe89 button.colab-df-convert');\n",
              "        buttonEl.style.display =\n",
              "          google.colab.kernel.accessAllowed ? 'block' : 'none';\n",
              "\n",
              "        async function convertToInteractive(key) {\n",
              "          const element = document.querySelector('#df-72b79457-3734-42a2-bcba-8b3d516bfe89');\n",
              "          const dataTable =\n",
              "            await google.colab.kernel.invokeFunction('convertToInteractive',\n",
              "                                                     [key], {});\n",
              "          if (!dataTable) return;\n",
              "\n",
              "          const docLinkHtml = 'Like what you see? Visit the ' +\n",
              "            '<a target=\"_blank\" href=https://colab.research.google.com/notebooks/data_table.ipynb>data table notebook</a>'\n",
              "            + ' to learn more about interactive tables.';\n",
              "          element.innerHTML = '';\n",
              "          dataTable['output_type'] = 'display_data';\n",
              "          await google.colab.output.renderOutput(dataTable, element);\n",
              "          const docLink = document.createElement('div');\n",
              "          docLink.innerHTML = docLinkHtml;\n",
              "          element.appendChild(docLink);\n",
              "        }\n",
              "      </script>\n",
              "    </div>\n",
              "  </div>\n",
              "  "
            ],
            "text/plain": [
              "          name              tag  value global_step\n",
              "0    REINFORCE  episode_rewards   11.0           1\n",
              "1    REINFORCE  episode_rewards   75.0           2\n",
              "2    REINFORCE  episode_rewards   24.0           3\n",
              "3    REINFORCE  episode_rewards   19.0           4\n",
              "4    REINFORCE  episode_rewards   14.0           5\n",
              "..         ...              ...    ...         ...\n",
              "995  REINFORCE  episode_rewards   51.0         496\n",
              "996  REINFORCE  episode_rewards   14.0         497\n",
              "997  REINFORCE  episode_rewards   12.0         498\n",
              "998  REINFORCE  episode_rewards   17.0         499\n",
              "999  REINFORCE  episode_rewards   12.0         500\n",
              "\n",
              "[1000 rows x 4 columns]"
            ]
          },
          "metadata": {},
          "execution_count": 2
        }
      ],
      "metadata": {
        "colab": {
          "base_uri": "https://localhost:8080/",
          "height": 1000
        },
        "id": "4f9QzuOQniNY",
        "outputId": "810c354a-a5fc-44d9-c21a-9ccac3861ac2"
      }
    },
    {
      "cell_type": "markdown",
      "source": [
        "## `AgentManager`: optimizing hyperparameters\n",
        "\n",
        "The agent was not able to learn with the previous set of hyperparameters. Let's see if we can make it work by optimizing these parameters!\n",
        "\n",
        "`REINFORCEAgent` implements a method `sample_hyperparameters`, which allows `AgentManager` to search for the best configuration of hyperparameters. In the class `REINFORCEAgent`, we have:\n",
        "\n",
        "```python\n",
        "@classmethod\n",
        "def sample_parameters(cls, trial):\n",
        "    \"\"\"\n",
        "    Sample hyperparameters for hyperparam optimization using\n",
        "    Optuna (https://optuna.org/)\n",
        "\n",
        "    Note: only the kwargs sent to __init__ are optimized. Make sure to\n",
        "    include in the Agent constructor all \"optimizable\" parameters.\n",
        "\n",
        "    Parameters\n",
        "    ----------\n",
        "    trial: optuna.trial\n",
        "    \"\"\"\n",
        "    batch_size = trial.suggest_categorical('batch_size', [1, 4, 8, 16, 32])\n",
        "    gamma = trial.suggest_categorical('gamma', [0.9, 0.95, 0.99])\n",
        "    learning_rate = trial.suggest_loguniform('learning_rate', 1e-5, 1)\n",
        "    entr_coef = trial.suggest_loguniform('entr_coef', 1e-8, 0.1)\n",
        "\n",
        "    return {\n",
        "            'batch_size': batch_size,\n",
        "            'gamma': gamma,\n",
        "            'learning_rate': learning_rate,\n",
        "            'entr_coef': entr_coef,\n",
        "            }\n",
        "```\n"
      ],
      "metadata": {
        "id": "DjDWGNRxpF4z"
      }
    },
    {
      "cell_type": "code",
      "execution_count": 6,
      "source": [
        "# Run optimization and print results\n",
        "stats.optimize_hyperparams(\n",
        "    n_trials=100,\n",
        "    timeout=120,   # stop after 120 seconds\n",
        "    n_fit=1,\n",
        "    sampler_method='optuna_default'\n",
        ")\n",
        "\n",
        "print(stats.best_hyperparams)\n",
        "\n",
        "# Calling fit() again will train the agent with the optimized parameters\n",
        "stats.fit()\n",
        "plot_writer_data(stats, tag='episode_rewards')"
      ],
      "outputs": [
        {
          "output_type": "stream",
          "name": "stdout",
          "text": [
            "Connected to rlberry_data/temp/manager_data/REINFORCE_09504970db34c1faa05d879251f00b2d/optuna_data.db (sqlite3 version = 2.6.0)\n"
          ]
        },
        {
          "output_type": "stream",
          "name": "stderr",
          "text": [
            "\u001b[32m[I 2022-02-20 21:29:58,714]\u001b[0m A new study created in RDB with name: no-name-a402e3bb-938d-4fd1-926e-ea101e623eec\u001b[0m\n",
            "[INFO] Saved AgentManager(REINFORCE) using pickle. \n",
            "[INFO] Running AgentManager fit() for optim...  \n",
            "[INFO] Could not find least used device (nvidia-smi might be missing), use cuda:0 instead \n"
          ]
        },
        {
          "output_type": "stream",
          "name": "stdout",
          "text": [
            "INFO: Making new env: CartPole-v0\n",
            "INFO: Making new env: CartPole-v0\n"
          ]
        },
        {
          "output_type": "stream",
          "name": "stderr",
          "text": [
            "[INFO] ... trained! \n",
            "[INFO] Could not find least used device (nvidia-smi might be missing), use cuda:0 instead \n",
            "[INFO] [eval]... simulation 1/2 \n",
            "[INFO] [eval]... simulation 2/2 \n"
          ]
        },
        {
          "output_type": "stream",
          "name": "stdout",
          "text": [
            "INFO: Making new env: CartPole-v0\n",
            "INFO: Making new env: CartPole-v0\n"
          ]
        },
        {
          "output_type": "stream",
          "name": "stderr",
          "text": [
            "\u001b[32m[I 2022-02-20 21:30:04,224]\u001b[0m Trial 0 finished with value: 26.75 and parameters: {'batch_size': 32, 'gamma': 0.9, 'learning_rate': 0.00040262365985170394, 'entr_coef': 2.6012852598162817e-05}. Best is trial 0 with value: 26.75.\u001b[0m\n",
            "[INFO] Running AgentManager fit() for optim...  \n",
            "[INFO] Could not find least used device (nvidia-smi might be missing), use cuda:0 instead \n"
          ]
        },
        {
          "output_type": "stream",
          "name": "stdout",
          "text": [
            "INFO: Making new env: CartPole-v0\n",
            "INFO: Making new env: CartPole-v0\n"
          ]
        },
        {
          "output_type": "stream",
          "name": "stderr",
          "text": [
            "[INFO] ... trained! \n",
            "[INFO] Could not find least used device (nvidia-smi might be missing), use cuda:0 instead \n",
            "[INFO] [eval]... simulation 1/2 \n",
            "[INFO] [eval]... simulation 2/2 \n",
            "\u001b[32m[I 2022-02-20 21:30:08,050]\u001b[0m Trial 1 finished with value: 23.25 and parameters: {'batch_size': 8, 'gamma': 0.99, 'learning_rate': 5.270413158545329e-05, 'entr_coef': 0.003519307834216726}. Best is trial 0 with value: 26.75.\u001b[0m\n"
          ]
        },
        {
          "output_type": "stream",
          "name": "stdout",
          "text": [
            "INFO: Making new env: CartPole-v0\n",
            "INFO: Making new env: CartPole-v0\n"
          ]
        },
        {
          "output_type": "stream",
          "name": "stderr",
          "text": [
            "[INFO] Running AgentManager fit() for optim...  \n",
            "[INFO] Could not find least used device (nvidia-smi might be missing), use cuda:0 instead \n"
          ]
        },
        {
          "output_type": "stream",
          "name": "stdout",
          "text": [
            "INFO: Making new env: CartPole-v0\n",
            "INFO: Making new env: CartPole-v0\n"
          ]
        },
        {
          "output_type": "stream",
          "name": "stderr",
          "text": [
            "[INFO] ... trained! \n",
            "[INFO] Could not find least used device (nvidia-smi might be missing), use cuda:0 instead \n"
          ]
        },
        {
          "output_type": "stream",
          "name": "stdout",
          "text": [
            "INFO: Making new env: CartPole-v0\n",
            "INFO: Making new env: CartPole-v0\n"
          ]
        },
        {
          "output_type": "stream",
          "name": "stderr",
          "text": [
            "[INFO] [eval]... simulation 1/2 \n",
            "[INFO] [eval]... simulation 2/2 \n",
            "\u001b[32m[I 2022-02-20 21:30:29,690]\u001b[0m Trial 2 finished with value: 140.95 and parameters: {'batch_size': 8, 'gamma': 0.9, 'learning_rate': 0.005575408175424816, 'entr_coef': 0.013755922923785425}. Best is trial 2 with value: 140.95.\u001b[0m\n",
            "[INFO] Running AgentManager fit() for optim...  \n",
            "[INFO] Could not find least used device (nvidia-smi might be missing), use cuda:0 instead \n"
          ]
        },
        {
          "output_type": "stream",
          "name": "stdout",
          "text": [
            "INFO: Making new env: CartPole-v0\n",
            "INFO: Making new env: CartPole-v0\n"
          ]
        },
        {
          "output_type": "stream",
          "name": "stderr",
          "text": [
            "[INFO] ... trained! \n",
            "[INFO] Could not find least used device (nvidia-smi might be missing), use cuda:0 instead \n",
            "[INFO] [eval]... simulation 1/2 \n",
            "[INFO] [eval]... simulation 2/2 \n",
            "\u001b[32m[I 2022-02-20 21:30:33,229]\u001b[0m Trial 3 finished with value: 23.55 and parameters: {'batch_size': 4, 'gamma': 0.99, 'learning_rate': 6.195313593200499e-05, 'entr_coef': 1.447347136328782e-07}. Best is trial 2 with value: 140.95.\u001b[0m\n"
          ]
        },
        {
          "output_type": "stream",
          "name": "stdout",
          "text": [
            "INFO: Making new env: CartPole-v0\n",
            "INFO: Making new env: CartPole-v0\n"
          ]
        },
        {
          "output_type": "stream",
          "name": "stderr",
          "text": [
            "[INFO] Running AgentManager fit() for optim...  \n",
            "[INFO] Could not find least used device (nvidia-smi might be missing), use cuda:0 instead \n"
          ]
        },
        {
          "output_type": "stream",
          "name": "stdout",
          "text": [
            "INFO: Making new env: CartPole-v0\n",
            "INFO: Making new env: CartPole-v0\n"
          ]
        },
        {
          "output_type": "stream",
          "name": "stderr",
          "text": [
            "[INFO] ... trained! \n",
            "[INFO] Could not find least used device (nvidia-smi might be missing), use cuda:0 instead \n",
            "[INFO] [eval]... simulation 1/2 \n",
            "[INFO] [eval]... simulation 2/2 \n"
          ]
        },
        {
          "output_type": "stream",
          "name": "stdout",
          "text": [
            "INFO: Making new env: CartPole-v0\n",
            "INFO: Making new env: CartPole-v0\n"
          ]
        },
        {
          "output_type": "stream",
          "name": "stderr",
          "text": [
            "\u001b[32m[I 2022-02-20 21:30:37,232]\u001b[0m Trial 4 finished with value: 26.75 and parameters: {'batch_size': 4, 'gamma': 0.95, 'learning_rate': 6.261943299509413e-05, 'entr_coef': 0.0017773139011075033}. Best is trial 2 with value: 140.95.\u001b[0m\n",
            "[INFO] Running AgentManager fit() for optim...  \n",
            "[INFO] Could not find least used device (nvidia-smi might be missing), use cuda:0 instead \n"
          ]
        },
        {
          "output_type": "stream",
          "name": "stdout",
          "text": [
            "INFO: Making new env: CartPole-v0\n",
            "INFO: Making new env: CartPole-v0\n"
          ]
        },
        {
          "output_type": "stream",
          "name": "stderr",
          "text": [
            "[INFO] ... trained! \n",
            "[INFO] Could not find least used device (nvidia-smi might be missing), use cuda:0 instead \n",
            "[INFO] [eval]... simulation 1/2 \n",
            "[INFO] [eval]... simulation 2/2 \n"
          ]
        },
        {
          "output_type": "stream",
          "name": "stdout",
          "text": [
            "INFO: Making new env: CartPole-v0\n",
            "INFO: Making new env: CartPole-v0\n"
          ]
        },
        {
          "output_type": "stream",
          "name": "stderr",
          "text": [
            "\u001b[32m[I 2022-02-20 21:30:41,281]\u001b[0m Trial 5 finished with value: 28.950000000000003 and parameters: {'batch_size': 4, 'gamma': 0.99, 'learning_rate': 6.685205273650854e-05, 'entr_coef': 4.9595184594866164e-08}. Best is trial 2 with value: 140.95.\u001b[0m\n",
            "[INFO] Running AgentManager fit() for optim...  \n",
            "[INFO] Could not find least used device (nvidia-smi might be missing), use cuda:0 instead \n"
          ]
        },
        {
          "output_type": "stream",
          "name": "stdout",
          "text": [
            "INFO: Making new env: CartPole-v0\n",
            "INFO: Making new env: CartPole-v0\n"
          ]
        },
        {
          "output_type": "stream",
          "name": "stderr",
          "text": [
            "[INFO] ... trained! \n",
            "[INFO] Could not find least used device (nvidia-smi might be missing), use cuda:0 instead \n"
          ]
        },
        {
          "output_type": "stream",
          "name": "stdout",
          "text": [
            "INFO: Making new env: CartPole-v0\n",
            "INFO: Making new env: CartPole-v0\n"
          ]
        },
        {
          "output_type": "stream",
          "name": "stderr",
          "text": [
            "[INFO] [eval]... simulation 1/2 \n",
            "[INFO] [eval]... simulation 2/2 \n",
            "\u001b[32m[I 2022-02-20 21:30:56,877]\u001b[0m Trial 6 finished with value: 132.8 and parameters: {'batch_size': 16, 'gamma': 0.95, 'learning_rate': 0.008794506033769557, 'entr_coef': 0.005350920318904114}. Best is trial 2 with value: 140.95.\u001b[0m\n",
            "[INFO] Running AgentManager fit() for optim...  \n",
            "[INFO] Could not find least used device (nvidia-smi might be missing), use cuda:0 instead \n"
          ]
        },
        {
          "output_type": "stream",
          "name": "stdout",
          "text": [
            "INFO: Making new env: CartPole-v0\n",
            "INFO: Making new env: CartPole-v0\n"
          ]
        },
        {
          "output_type": "stream",
          "name": "stderr",
          "text": [
            "[INFO] ... trained! \n",
            "[INFO] Could not find least used device (nvidia-smi might be missing), use cuda:0 instead \n"
          ]
        },
        {
          "output_type": "stream",
          "name": "stdout",
          "text": [
            "INFO: Making new env: CartPole-v0\n",
            "INFO: Making new env: CartPole-v0\n"
          ]
        },
        {
          "output_type": "stream",
          "name": "stderr",
          "text": [
            "[INFO] [eval]... simulation 1/2 \n",
            "[INFO] [eval]... simulation 2/2 \n",
            "\u001b[32m[I 2022-02-20 21:31:10,149]\u001b[0m Trial 7 finished with value: 159.0 and parameters: {'batch_size': 16, 'gamma': 0.99, 'learning_rate': 0.006668270459248973, 'entr_coef': 0.004187487444773686}. Best is trial 7 with value: 159.0.\u001b[0m\n",
            "[INFO] Running AgentManager fit() for optim...  \n",
            "[INFO] Could not find least used device (nvidia-smi might be missing), use cuda:0 instead \n"
          ]
        },
        {
          "output_type": "stream",
          "name": "stdout",
          "text": [
            "INFO: Making new env: CartPole-v0\n",
            "INFO: Making new env: CartPole-v0\n"
          ]
        },
        {
          "output_type": "stream",
          "name": "stderr",
          "text": [
            "[INFO] ... trained! \n",
            "[INFO] Could not find least used device (nvidia-smi might be missing), use cuda:0 instead \n"
          ]
        },
        {
          "output_type": "stream",
          "name": "stdout",
          "text": [
            "INFO: Making new env: CartPole-v0\n",
            "INFO: Making new env: CartPole-v0\n"
          ]
        },
        {
          "output_type": "stream",
          "name": "stderr",
          "text": [
            "[INFO] [eval]... simulation 1/2 \n",
            "[INFO] [eval]... simulation 2/2 \n",
            "\u001b[32m[I 2022-02-20 21:31:18,089]\u001b[0m Trial 8 finished with value: 102.4 and parameters: {'batch_size': 32, 'gamma': 0.95, 'learning_rate': 0.006617169979479383, 'entr_coef': 7.672114252191604e-07}. Best is trial 7 with value: 159.0.\u001b[0m\n",
            "[INFO] Running AgentManager fit() for optim...  \n",
            "[INFO] Could not find least used device (nvidia-smi might be missing), use cuda:0 instead \n"
          ]
        },
        {
          "output_type": "stream",
          "name": "stdout",
          "text": [
            "INFO: Making new env: CartPole-v0\n",
            "INFO: Making new env: CartPole-v0\n"
          ]
        },
        {
          "output_type": "stream",
          "name": "stderr",
          "text": [
            "[INFO] ... trained! \n",
            "[INFO] Could not find least used device (nvidia-smi might be missing), use cuda:0 instead \n",
            "[INFO] [eval]... simulation 1/2 \n",
            "[INFO] [eval]... simulation 2/2 \n",
            "\u001b[32m[I 2022-02-20 21:31:20,554]\u001b[0m Trial 9 finished with value: 9.3 and parameters: {'batch_size': 1, 'gamma': 0.95, 'learning_rate': 0.01917447400577418, 'entr_coef': 0.0012451299911390079}. Best is trial 7 with value: 159.0.\u001b[0m\n"
          ]
        },
        {
          "output_type": "stream",
          "name": "stdout",
          "text": [
            "INFO: Making new env: CartPole-v0\n",
            "INFO: Making new env: CartPole-v0\n"
          ]
        },
        {
          "output_type": "stream",
          "name": "stderr",
          "text": [
            "[INFO] Running AgentManager fit() for optim...  \n",
            "[INFO] Could not find least used device (nvidia-smi might be missing), use cuda:0 instead \n"
          ]
        },
        {
          "output_type": "stream",
          "name": "stdout",
          "text": [
            "INFO: Making new env: CartPole-v0\n",
            "INFO: Making new env: CartPole-v0\n"
          ]
        },
        {
          "output_type": "stream",
          "name": "stderr",
          "text": [
            "[INFO] ... trained! \n",
            "[INFO] Could not find least used device (nvidia-smi might be missing), use cuda:0 instead \n",
            "[INFO] [eval]... simulation 1/2 \n",
            "[INFO] [eval]... simulation 2/2 \n",
            "\u001b[32m[I 2022-02-20 21:31:22,464]\u001b[0m Trial 10 finished with value: 9.3 and parameters: {'batch_size': 16, 'gamma': 0.99, 'learning_rate': 0.9222046079249648, 'entr_coef': 4.16636384781376e-05}. Best is trial 7 with value: 159.0.\u001b[0m\n"
          ]
        },
        {
          "output_type": "stream",
          "name": "stdout",
          "text": [
            "INFO: Making new env: CartPole-v0\n",
            "INFO: Making new env: CartPole-v0\n"
          ]
        },
        {
          "output_type": "stream",
          "name": "stderr",
          "text": [
            "[INFO] Running AgentManager fit() for optim...  \n",
            "[INFO] Could not find least used device (nvidia-smi might be missing), use cuda:0 instead \n"
          ]
        },
        {
          "output_type": "stream",
          "name": "stdout",
          "text": [
            "INFO: Making new env: CartPole-v0\n",
            "INFO: Making new env: CartPole-v0\n"
          ]
        },
        {
          "output_type": "stream",
          "name": "stderr",
          "text": [
            "[INFO] ... trained! \n",
            "[INFO] Could not find least used device (nvidia-smi might be missing), use cuda:0 instead \n",
            "[INFO] [eval]... simulation 1/2 \n"
          ]
        },
        {
          "output_type": "stream",
          "name": "stdout",
          "text": [
            "INFO: Making new env: CartPole-v0\n",
            "INFO: Making new env: CartPole-v0\n"
          ]
        },
        {
          "output_type": "stream",
          "name": "stderr",
          "text": [
            "[INFO] [eval]... simulation 2/2 \n",
            "\u001b[32m[I 2022-02-20 21:31:31,162]\u001b[0m Trial 11 finished with value: 45.15 and parameters: {'batch_size': 8, 'gamma': 0.9, 'learning_rate': 0.12023561752427234, 'entr_coef': 0.0982326618644128}. Best is trial 7 with value: 159.0.\u001b[0m\n",
            "[INFO] Running AgentManager fit() for optim...  \n",
            "[INFO] Could not find least used device (nvidia-smi might be missing), use cuda:0 instead \n"
          ]
        },
        {
          "output_type": "stream",
          "name": "stdout",
          "text": [
            "INFO: Making new env: CartPole-v0\n",
            "INFO: Making new env: CartPole-v0\n"
          ]
        },
        {
          "output_type": "stream",
          "name": "stderr",
          "text": [
            "[INFO] ... trained! \n",
            "[INFO] Could not find least used device (nvidia-smi might be missing), use cuda:0 instead \n"
          ]
        },
        {
          "output_type": "stream",
          "name": "stdout",
          "text": [
            "INFO: Making new env: CartPole-v0\n",
            "INFO: Making new env: CartPole-v0\n"
          ]
        },
        {
          "output_type": "stream",
          "name": "stderr",
          "text": [
            "[INFO] [eval]... simulation 1/2 \n",
            "[INFO] [eval]... simulation 2/2 \n",
            "\u001b[32m[I 2022-02-20 21:31:38,602]\u001b[0m Trial 12 finished with value: 94.4 and parameters: {'batch_size': 8, 'gamma': 0.9, 'learning_rate': 0.0010369500912535325, 'entr_coef': 0.06768982169343572}. Best is trial 7 with value: 159.0.\u001b[0m\n",
            "[INFO] Running AgentManager fit() for optim...  \n",
            "[INFO] Could not find least used device (nvidia-smi might be missing), use cuda:0 instead \n"
          ]
        },
        {
          "output_type": "stream",
          "name": "stdout",
          "text": [
            "INFO: Making new env: CartPole-v0\n",
            "INFO: Making new env: CartPole-v0\n"
          ]
        },
        {
          "output_type": "stream",
          "name": "stderr",
          "text": [
            "[INFO] ... trained! \n",
            "[INFO] Could not find least used device (nvidia-smi might be missing), use cuda:0 instead \n"
          ]
        },
        {
          "output_type": "stream",
          "name": "stdout",
          "text": [
            "INFO: Making new env: CartPole-v0\n",
            "INFO: Making new env: CartPole-v0\n"
          ]
        },
        {
          "output_type": "stream",
          "name": "stderr",
          "text": [
            "[INFO] [eval]... simulation 1/2 \n",
            "[INFO] [eval]... simulation 2/2 \n",
            "\u001b[32m[I 2022-02-20 21:31:59,510]\u001b[0m Trial 13 finished with value: 200.0 and parameters: {'batch_size': 16, 'gamma': 0.9, 'learning_rate': 0.04494654060829228, 'entr_coef': 0.00011618534375752914}. Best is trial 13 with value: 200.0.\u001b[0m\n",
            "[INFO] Number of finished trials: 14 \n",
            "[INFO] Best trial: \n",
            "[INFO] Value: 200.0 \n",
            "[INFO] Params: \n",
            "[INFO]     batch_size: 16 \n",
            "[INFO]     entr_coef: 0.00011618534375752914 \n",
            "[INFO]     gamma: 0.9 \n",
            "[INFO]     learning_rate: 0.04494654060829228 \n",
            "[INFO] Running AgentManager fit() for REINFORCE...  \n",
            "[INFO] Could not find least used device (nvidia-smi might be missing), use cuda:0 instead \n",
            "[INFO] Could not find least used device (nvidia-smi might be missing), use cuda:0 instead \n"
          ]
        },
        {
          "output_type": "stream",
          "name": "stdout",
          "text": [
            "{'batch_size': 16, 'entr_coef': 0.00011618534375752914, 'gamma': 0.9, 'learning_rate': 0.04494654060829228}\n",
            "INFO: Making new env: CartPole-v0\n",
            "INFO: Making new env: CartPole-v0\n",
            "INFO: Making new env: CartPole-v0\n",
            "INFO: Making new env: CartPole-v0\n"
          ]
        },
        {
          "output_type": "stream",
          "name": "stderr",
          "text": [
            "[INFO] [REINFORCE[worker: 0]] | max_global_step = 82 | episode_rewards = 64.0 | dw_time_elapsed = 3.0380977460000054 |  \n",
            "[INFO] [REINFORCE[worker: 1]] | max_global_step = 81 | episode_rewards = 96.0 | dw_time_elapsed = 3.0292299780000462 |  \n",
            "[INFO] [REINFORCE[worker: 0]] | max_global_step = 111 | episode_rewards = 130.0 | dw_time_elapsed = 6.070405113999982 |  \n",
            "[INFO] [REINFORCE[worker: 1]] | max_global_step = 145 | episode_rewards = 142.0 | dw_time_elapsed = 6.1262245700000335 |  \n",
            "[INFO] [REINFORCE[worker: 0]] | max_global_step = 134 | episode_rewards = 137.0 | dw_time_elapsed = 9.179841453999984 |  \n",
            "[INFO] [REINFORCE[worker: 1]] | max_global_step = 164 | episode_rewards = 200.0 | dw_time_elapsed = 9.186684895000042 |  \n",
            "[INFO] [REINFORCE[worker: 1]] | max_global_step = 182 | episode_rewards = 135.0 | dw_time_elapsed = 12.236836961000051 |  \n",
            "[INFO] [REINFORCE[worker: 0]] | max_global_step = 155 | episode_rewards = 200.0 | dw_time_elapsed = 12.270595807000007 |  \n",
            "[INFO] [REINFORCE[worker: 1]] | max_global_step = 205 | episode_rewards = 154.0 | dw_time_elapsed = 15.308453755000016 |  \n",
            "[INFO] [REINFORCE[worker: 0]] | max_global_step = 174 | episode_rewards = 200.0 | dw_time_elapsed = 15.436554344000001 |  \n",
            "[INFO] [REINFORCE[worker: 1]] | max_global_step = 230 | episode_rewards = 152.0 | dw_time_elapsed = 18.315290884000035 |  \n",
            "[INFO] [REINFORCE[worker: 0]] | max_global_step = 192 | episode_rewards = 200.0 | dw_time_elapsed = 18.60918541000001 |  \n",
            "[INFO] [REINFORCE[worker: 1]] | max_global_step = 257 | episode_rewards = 121.0 | dw_time_elapsed = 21.435425484000007 |  \n",
            "[INFO] [REINFORCE[worker: 0]] | max_global_step = 209 | episode_rewards = 200.0 | dw_time_elapsed = 21.646667006999962 |  \n",
            "[INFO] [REINFORCE[worker: 1]] | max_global_step = 285 | episode_rewards = 110.0 | dw_time_elapsed = 24.468236302000037 |  \n",
            "[INFO] [REINFORCE[worker: 0]] | max_global_step = 226 | episode_rewards = 200.0 | dw_time_elapsed = 24.674789983999972 |  \n",
            "[INFO] [REINFORCE[worker: 1]] | max_global_step = 314 | episode_rewards = 117.0 | dw_time_elapsed = 27.489112360000036 |  \n",
            "[INFO] [REINFORCE[worker: 0]] | max_global_step = 243 | episode_rewards = 200.0 | dw_time_elapsed = 27.69208366199996 |  \n",
            "[INFO] [REINFORCE[worker: 1]] | max_global_step = 343 | episode_rewards = 116.0 | dw_time_elapsed = 30.504377558000044 |  \n",
            "[INFO] [REINFORCE[worker: 0]] | max_global_step = 260 | episode_rewards = 200.0 | dw_time_elapsed = 30.792127753999978 |  \n",
            "[INFO] [REINFORCE[worker: 1]] | max_global_step = 373 | episode_rewards = 100.0 | dw_time_elapsed = 33.512755008 |  \n",
            "[INFO] [REINFORCE[worker: 0]] | max_global_step = 277 | episode_rewards = 200.0 | dw_time_elapsed = 33.948474490999956 |  \n",
            "[INFO] [REINFORCE[worker: 1]] | max_global_step = 412 | episode_rewards = 83.0 | dw_time_elapsed = 36.53268694600001 |  \n",
            "[INFO] [REINFORCE[worker: 0]] | max_global_step = 294 | episode_rewards = 200.0 | dw_time_elapsed = 37.09672404899999 |  \n",
            "[INFO] [REINFORCE[worker: 1]] | max_global_step = 450 | episode_rewards = 112.0 | dw_time_elapsed = 39.56612000300004 |  \n",
            "[INFO] [REINFORCE[worker: 0]] | max_global_step = 311 | episode_rewards = 200.0 | dw_time_elapsed = 40.19385183099996 |  \n",
            "[INFO] [REINFORCE[worker: 1]] | max_global_step = 481 | episode_rewards = 125.0 | dw_time_elapsed = 42.59069258100004 |  \n",
            "[INFO] [REINFORCE[worker: 0]] | max_global_step = 328 | episode_rewards = 200.0 | dw_time_elapsed = 43.288428883999984 |  \n",
            "[INFO] [REINFORCE[worker: 0]] | max_global_step = 363 | episode_rewards = 200.0 | dw_time_elapsed = 46.319542361 |  \n",
            "[INFO] [REINFORCE[worker: 0]] | max_global_step = 413 | episode_rewards = 200.0 | dw_time_elapsed = 49.34864978899998 |  \n",
            "[INFO] [REINFORCE[worker: 0]] | max_global_step = 469 | episode_rewards = 200.0 | dw_time_elapsed = 52.37240330599997 |  \n",
            "[INFO] ... trained! \n",
            "[INFO] Could not find least used device (nvidia-smi might be missing), use cuda:0 instead \n",
            "[INFO] Could not find least used device (nvidia-smi might be missing), use cuda:0 instead \n"
          ]
        },
        {
          "output_type": "stream",
          "name": "stdout",
          "text": [
            "INFO: Making new env: CartPole-v0\n",
            "INFO: Making new env: CartPole-v0\n",
            "INFO: Making new env: CartPole-v0\n",
            "INFO: Making new env: CartPole-v0\n"
          ]
        },
        {
          "output_type": "display_data",
          "data": {
            "image/png": "[encoded data removed]",
            "text/plain": [
              "<Figure size 432x288 with 1 Axes>"
            ]
          },
          "metadata": {
            "needs_background": "light"
          }
        },
        {
          "output_type": "execute_result",
          "data": {
            "text/html": [
              "\n",
              "  <div id=\"df-430ad4e5-a2cf-49bf-a7f2-6fad230cc60a\">\n",
              "    <div class=\"colab-df-container\">\n",
              "      <div>\n",
              "<style scoped>\n",
              "    .dataframe tbody tr th:only-of-type {\n",
              "        vertical-align: middle;\n",
              "    }\n",
              "\n",
              "    .dataframe tbody tr th {\n",
              "        vertical-align: top;\n",
              "    }\n",
              "\n",
              "    .dataframe thead th {\n",
              "        text-align: right;\n",
              "    }\n",
              "</style>\n",
              "<table border=\"1\" class=\"dataframe\">\n",
              "  <thead>\n",
              "    <tr style=\"text-align: right;\">\n",
              "      <th></th>\n",
              "      <th>name</th>\n",
              "      <th>tag</th>\n",
              "      <th>value</th>\n",
              "      <th>global_step</th>\n",
              "    </tr>\n",
              "  </thead>\n",
              "  <tbody>\n",
              "    <tr>\n",
              "      <th>0</th>\n",
              "      <td>REINFORCE</td>\n",
              "      <td>episode_rewards</td>\n",
              "      <td>15.0</td>\n",
              "      <td>1</td>\n",
              "    </tr>\n",
              "    <tr>\n",
              "      <th>1</th>\n",
              "      <td>REINFORCE</td>\n",
              "      <td>episode_rewards</td>\n",
              "      <td>39.0</td>\n",
              "      <td>2</td>\n",
              "    </tr>\n",
              "    <tr>\n",
              "      <th>2</th>\n",
              "      <td>REINFORCE</td>\n",
              "      <td>episode_rewards</td>\n",
              "      <td>17.0</td>\n",
              "      <td>3</td>\n",
              "    </tr>\n",
              "    <tr>\n",
              "      <th>3</th>\n",
              "      <td>REINFORCE</td>\n",
              "      <td>episode_rewards</td>\n",
              "      <td>13.0</td>\n",
              "      <td>4</td>\n",
              "    </tr>\n",
              "    <tr>\n",
              "      <th>4</th>\n",
              "      <td>REINFORCE</td>\n",
              "      <td>episode_rewards</td>\n",
              "      <td>10.0</td>\n",
              "      <td>5</td>\n",
              "    </tr>\n",
              "    <tr>\n",
              "      <th>...</th>\n",
              "      <td>...</td>\n",
              "      <td>...</td>\n",
              "      <td>...</td>\n",
              "      <td>...</td>\n",
              "    </tr>\n",
              "    <tr>\n",
              "      <th>995</th>\n",
              "      <td>REINFORCE</td>\n",
              "      <td>episode_rewards</td>\n",
              "      <td>128.0</td>\n",
              "      <td>496</td>\n",
              "    </tr>\n",
              "    <tr>\n",
              "      <th>996</th>\n",
              "      <td>REINFORCE</td>\n",
              "      <td>episode_rewards</td>\n",
              "      <td>136.0</td>\n",
              "      <td>497</td>\n",
              "    </tr>\n",
              "    <tr>\n",
              "      <th>997</th>\n",
              "      <td>REINFORCE</td>\n",
              "      <td>episode_rewards</td>\n",
              "      <td>120.0</td>\n",
              "      <td>498</td>\n",
              "    </tr>\n",
              "    <tr>\n",
              "      <th>998</th>\n",
              "      <td>REINFORCE</td>\n",
              "      <td>episode_rewards</td>\n",
              "      <td>135.0</td>\n",
              "      <td>499</td>\n",
              "    </tr>\n",
              "    <tr>\n",
              "      <th>999</th>\n",
              "      <td>REINFORCE</td>\n",
              "      <td>episode_rewards</td>\n",
              "      <td>138.0</td>\n",
              "      <td>500</td>\n",
              "    </tr>\n",
              "  </tbody>\n",
              "</table>\n",
              "<p>1000 rows × 4 columns</p>\n",
              "</div>\n",
              "      <button class=\"colab-df-convert\" onclick=\"convertToInteractive('df-430ad4e5-a2cf-49bf-a7f2-6fad230cc60a')\"\n",
              "              title=\"Convert this dataframe to an interactive table.\"\n",
              "              style=\"display:none;\">\n",
              "        \n",
              "  <svg xmlns=\"http://www.w3.org/2000/svg\" height=\"24px\"viewBox=\"0 0 24 24\"\n",
              "       width=\"24px\">\n",
              "    <path d=\"M0 0h24v24H0V0z\" fill=\"none\"/>\n",
              "    <path d=\"M18.56 5.44l.94 2.06.94-2.06 2.06-.94-2.06-.94-.94-2.06-.94 2.06-2.06.94zm-11 1L8.5 8.5l.94-2.06 2.06-.94-2.06-.94L8.5 2.5l-.94 2.06-2.06.94zm10 10l.94 2.06.94-2.06 2.06-.94-2.06-.94-.94-2.06-.94 2.06-2.06.94z\"/><path d=\"M17.41 7.96l-1.37-1.37c-.4-.4-.92-.59-1.43-.59-.52 0-1.04.2-1.43.59L10.3 9.45l-7.72 7.72c-.78.78-.78 2.05 0 2.83L4 21.41c.39.39.9.59 1.41.59.51 0 1.02-.2 1.41-.59l7.78-7.78 2.81-2.81c.8-.78.8-2.07 0-2.86zM5.41 20L4 18.59l7.72-7.72 1.47 1.35L5.41 20z\"/>\n",
              "  </svg>\n",
              "      </button>\n",
              "      \n",
              "  <style>\n",
              "    .colab-df-container {\n",
              "      display:flex;\n",
              "      flex-wrap:wrap;\n",
              "      gap: 12px;\n",
              "    }\n",
              "\n",
              "    .colab-df-convert {\n",
              "      background-color: #E8F0FE;\n",
              "      border: none;\n",
              "      border-radius: 50%;\n",
              "      cursor: pointer;\n",
              "      display: none;\n",
              "      fill: #1967D2;\n",
              "      height: 32px;\n",
              "      padding: 0 0 0 0;\n",
              "      width: 32px;\n",
              "    }\n",
              "\n",
              "    .colab-df-convert:hover {\n",
              "      background-color: #E2EBFA;\n",
              "      box-shadow: 0px 1px 2px rgba(60, 64, 67, 0.3), 0px 1px 3px 1px rgba(60, 64, 67, 0.15);\n",
              "      fill: #174EA6;\n",
              "    }\n",
              "\n",
              "    [theme=dark] .colab-df-convert {\n",
              "      background-color: #3B4455;\n",
              "      fill: #D2E3FC;\n",
              "    }\n",
              "\n",
              "    [theme=dark] .colab-df-convert:hover {\n",
              "      background-color: #434B5C;\n",
              "      box-shadow: 0px 1px 3px 1px rgba(0, 0, 0, 0.15);\n",
              "      filter: drop-shadow(0px 1px 2px rgba(0, 0, 0, 0.3));\n",
              "      fill: #FFFFFF;\n",
              "    }\n",
              "  </style>\n",
              "\n",
              "      <script>\n",
              "        const buttonEl =\n",
              "          document.querySelector('#df-430ad4e5-a2cf-49bf-a7f2-6fad230cc60a button.colab-df-convert');\n",
              "        buttonEl.style.display =\n",
              "          google.colab.kernel.accessAllowed ? 'block' : 'none';\n",
              "\n",
              "        async function convertToInteractive(key) {\n",
              "          const element = document.querySelector('#df-430ad4e5-a2cf-49bf-a7f2-6fad230cc60a');\n",
              "          const dataTable =\n",
              "            await google.colab.kernel.invokeFunction('convertToInteractive',\n",
              "                                                     [key], {});\n",
              "          if (!dataTable) return;\n",
              "\n",
              "          const docLinkHtml = 'Like what you see? Visit the ' +\n",
              "            '<a target=\"_blank\" href=https://colab.research.google.com/notebooks/data_table.ipynb>data table notebook</a>'\n",
              "            + ' to learn more about interactive tables.';\n",
              "          element.innerHTML = '';\n",
              "          dataTable['output_type'] = 'display_data';\n",
              "          await google.colab.output.renderOutput(dataTable, element);\n",
              "          const docLink = document.createElement('div');\n",
              "          docLink.innerHTML = docLinkHtml;\n",
              "          element.appendChild(docLink);\n",
              "        }\n",
              "      </script>\n",
              "    </div>\n",
              "  </div>\n",
              "  "
            ],
            "text/plain": [
              "          name              tag  value global_step\n",
              "0    REINFORCE  episode_rewards   15.0           1\n",
              "1    REINFORCE  episode_rewards   39.0           2\n",
              "2    REINFORCE  episode_rewards   17.0           3\n",
              "3    REINFORCE  episode_rewards   13.0           4\n",
              "4    REINFORCE  episode_rewards   10.0           5\n",
              "..         ...              ...    ...         ...\n",
              "995  REINFORCE  episode_rewards  128.0         496\n",
              "996  REINFORCE  episode_rewards  136.0         497\n",
              "997  REINFORCE  episode_rewards  120.0         498\n",
              "998  REINFORCE  episode_rewards  135.0         499\n",
              "999  REINFORCE  episode_rewards  138.0         500\n",
              "\n",
              "[1000 rows x 4 columns]"
            ]
          },
          "metadata": {},
          "execution_count": 6
        }
      ],
      "metadata": {
        "colab": {
          "base_uri": "https://localhost:8080/",
          "height": 1000
        },
        "id": "-HttJnDVpk-5",
        "outputId": "afebb6c1-f147-40d6-d052-ab5067cc0616"
      }
    },
    {
      "cell_type": "code",
      "execution_count": 7,
      "source": [
        "# Visualize the agent\n",
        "\n",
        "import rlberry.colab_utils.display_setup\n",
        "from rlberry.colab_utils.display_setup import show_video\n",
        "from gym.wrappers import Monitor\n",
        "\n",
        "# wrap env\n",
        "env = Monitor(env, \"./gym-results\", force=True, video_callable=lambda episode: True)\n",
        "\n",
        "# take one of the trained agents\n",
        "agent = stats.agent_handlers[0]\n",
        "\n",
        "for episode in range(1):\n",
        "    done = False\n",
        "    state = env.reset()\n",
        "    while not done:\n",
        "        action = agent.policy(state)\n",
        "        state, reward, done, info = env.step(action)\n",
        "env.close()\n",
        "show_video(directory=\"./gym-results\")"
      ],
      "outputs": [
        {
          "output_type": "stream",
          "name": "stdout",
          "text": [
            "INFO: Clearing 4 monitor files from previous run (because force=True was provided)\n",
            "INFO: Starting new video recorder writing to /content/gym-results/openaigym.video.1.76.video000000.mp4\n",
            "INFO: Finished writing results. You can upload them to the scoreboard via gym.upload('/content/gym-results')\n"
          ]
        },
        {
          "output_type": "display_data",
          "data": {
            "text/html": [
              "<video alt=\"gym-results/openaigym.video.1.76.video000000.mp4\" autoplay\n",
              "                      loop controls style=\"height: 400px;\">\n",
              "                    <source src=\"data:video/mp4;base64,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\" type=\"video/mp4\" />\n",
              "                 </video>"
            ],
            "text/plain": [
              "<IPython.core.display.HTML object>"
            ]
          },
          "metadata": {}
        }
      ],
      "metadata": {
        "colab": {
          "base_uri": "https://localhost:8080/",
          "height": 474
        },
        "id": "e10uhaCpwZ2L",
        "outputId": "eeba3686-ccb6-4b8d-d6c1-81c4cd0c1876"
      }
    },
    {
      "cell_type": "code",
      "execution_count": 8,
      "source": [
        "# clear data\n",
        "stats.clear_output_dir()"
      ],
      "outputs": [],
      "metadata": {
        "id": "babnUP4bP8jZ"
      }
    }
  ]
}